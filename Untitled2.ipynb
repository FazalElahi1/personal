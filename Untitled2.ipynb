{
  "metadata": {
    "kernelspec": {
      "name": "python",
      "display_name": "Python (Pyodide)",
      "language": "python"
    },
    "language_info": {
      "codemirror_mode": {
        "name": "python",
        "version": 3
      },
      "file_extension": ".py",
      "mimetype": "text/x-python",
      "name": "python",
      "nbconvert_exporter": "python",
      "pygments_lexer": "ipython3",
      "version": "3.8"
    }
  },
  "nbformat_minor": 5,
  "nbformat": 4,
  "cells": [
    {
      "id": "00d69900-0b03-4424-8f38-9d9db4ac06e4",
      "cell_type": "markdown",
      "source": "# Data Science And Ecosystem",
      "metadata": {}
    },
    {
      "id": "2874add0-0648-49d2-9f20-550b5bb9712b",
      "cell_type": "markdown",
      "source": "in this notebook, data science and ecosystem is summarized.",
      "metadata": {}
    },
    {
      "id": "a48f0e03-16b0-491d-aa83-5e1e1f9208d1",
      "cell_type": "markdown",
      "source": "Some of the popular languages that data scientist uses are:\n1. Python\n2. R\n3. Julia\n4. C++\n5. Java\n6. C\n7. Scala\n8. Javascript",
      "metadata": {}
    },
    {
      "id": "a17f84dc-fa2f-480e-917c-d77c1247e887",
      "cell_type": "markdown",
      "source": "Some of the commonly used libraries used by Data Scientist are:\n1. Pandas\n2. Numpy\n3. Matplotib\n4. Seaborn\n5. Scikit-learn",
      "metadata": {}
    },
    {
      "id": "757e899d-f98d-4af0-9e0d-fdc9bbcc4c8d",
      "cell_type": "markdown",
      "source": "| Data Science Tools    |\n|-----------------------|\n| R Studio              |\n| Jupyter Notebook      |\n| Visual Studio Code    |",
      "metadata": {}
    },
    {
      "id": "c2892238-71c4-4b48-8bae-cf465ed40156",
      "cell_type": "markdown",
      "source": "### Here are some examples of intro to arithmetic expression",
      "metadata": {}
    },
    {
      "id": "66ab9515-b980-4d61-a72c-5b7bf25a773c",
      "cell_type": "code",
      "source": "# Simple arithmetic expression\nstore = (5 * 4) + 6\nstore",
      "metadata": {
        "trusted": true
      },
      "outputs": [
        {
          "execution_count": 3,
          "output_type": "execute_result",
          "data": {
            "text/plain": "26"
          },
          "metadata": {}
        }
      ],
      "execution_count": 3
    },
    {
      "id": "dcb7a954-804e-466b-8ccf-af964beefd73",
      "cell_type": "markdown",
      "source": "### Here are some examples of intro to arithmetic expression",
      "metadata": {}
    },
    {
      "id": "4f70597c-9b60-418a-bcc1-95a7ec53cb05",
      "cell_type": "code",
      "source": "# conversion of minutes into hours\nminutes = 300\nhour = 300/ 60\nhour",
      "metadata": {
        "trusted": true
      },
      "outputs": [
        {
          "execution_count": 4,
          "output_type": "execute_result",
          "data": {
            "text/plain": "5.0"
          },
          "metadata": {}
        }
      ],
      "execution_count": 4
    },
    {
      "id": "944bf53a-0364-4755-bde5-008cf0d720b8",
      "cell_type": "markdown",
      "source": "#### Objectives:\n1. List popular languages for Data Sciene\n2. List commonly used libraries in Data Science\n3. Introduce basic arithmetic expressions in Python",
      "metadata": {}
    },
    {
      "id": "5c7606c6-388b-4eb7-b75b-2262091f6648",
      "cell_type": "markdown",
      "source": "## Author\nFazal Elahi",
      "metadata": {}
    },
    {
      "id": "cb42fbc2-5620-4d46-be3f-07c7544b8add",
      "cell_type": "code",
      "source": "",
      "metadata": {
        "trusted": true
      },
      "outputs": [],
      "execution_count": null
    }
  ]
}