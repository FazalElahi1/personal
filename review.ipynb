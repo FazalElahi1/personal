{
  "metadata": {
    "kernelspec": {
      "name": "python",
      "display_name": "Python (Pyodide)",
      "language": "python"
    },
    "language_info": {
      "codemirror_mode": {
        "name": "python",
        "version": 3
      },
      "file_extension": ".py",
      "mimetype": "text/x-python",
      "name": "python",
      "nbconvert_exporter": "python",
      "pygments_lexer": "ipython3",
      "version": "3.8"
    }
  },
  "nbformat_minor": 5,
  "nbformat": 4,
  "cells": [
    {
      "id": "c1e4b32f-d5a7-480a-8c11-24afe706fdf4",
      "cell_type": "markdown",
      "source": "# Graded Notebook",
      "metadata": {}
    },
    {
      "id": "d2884ac6-8004-426d-b83c-7a1945b18fa6",
      "cell_type": "markdown",
      "source": "# Introduction to Excercise\nHere i am gonna do excercise based on qustions provided.",
      "metadata": {
        "jp-MarkdownHeadingCollapsed": true
      }
    },
    {
      "id": "da9700f8-8bf3-4c8f-99b0-36e5b0d47617",
      "cell_type": "markdown",
      "source": "# Languages\nHere are the languages for data sceince\nPython \nR",
      "metadata": {
        "jp-MarkdownHeadingCollapsed": true
      }
    },
    {
      "id": "fac1eb67-865f-4cca-a629-29d7bd9a6e36",
      "cell_type": "markdown",
      "source": "# Data Science libraries\ndata science libraries: pandas | numpy | ggplot | dyplr | caret | matpotlib | plotly| lettice| seaborn",
      "metadata": {}
    },
    {
      "id": "6d71d3d2-66d5-459c-b957-a1a57e39780d",
      "cell_type": "markdown",
      "source": "# Data Science Tools\n| Tool Name        | Category            | Description |\n| Jupyter Notebook | IDE                 | Interactive computing and visualization |\n| RStudio          | IDE                 | IDE for R programming and statistical analysis |\n| Apache Spark     | Big Data Processing | Distributed computing framework |\n| TensorFlow       | Machine Learning    | Deep learning framework |\n| Tableau          | Data Visualization  | Business intelligence and visualization tool |\n\n",
      "metadata": {}
    },
    {
      "id": "cc441c60-ac47-4ecb-b96e-96ea6d1dd401",
      "cell_type": "markdown",
      "source": "# Arithemetic Expression\n4+4*4",
      "metadata": {}
    },
    {
      "id": "7bbb9e23-9777-4317-8815-6ec9f2683b69",
      "cell_type": "code",
      "source": "# Multiply and add numbers\nresult = (5 * 3) + 8  \nprint(\"The result of (5 * 3) + 8 is:\", result)\n",
      "metadata": {
        "trusted": true,
        "scrolled": true
      },
      "outputs": [
        {
          "name": "stdout",
          "output_type": "stream",
          "text": "The result of (5 * 3) + 8 is: 23\n"
        }
      ],
      "execution_count": 6
    },
    {
      "id": "06fce718-44e4-4d54-8e10-55d1d2debd4c",
      "cell_type": "code",
      "source": "# Convert minutes to hours\nminutes = 150\nhours = minutes / 60  \nprint(f\"{minutes} minutes is equal to {hours} hours\")\n",
      "metadata": {
        "trusted": true
      },
      "outputs": [
        {
          "name": "stdout",
          "output_type": "stream",
          "text": "150 minutes is equal to 2.5 hours\n"
        }
      ],
      "execution_count": 7
    },
    {
      "id": "a4726e86-1372-45b1-8163-bd19f31d891b",
      "cell_type": "markdown",
      "source": "# Objectives  \nBy the end of this notebook, you will be able to: \nUsing of mardown cells\nUnderstand basic arithmetic expressions on Python  \nPerform multiplication, addition using Python  \nConvert time units minutes to hours  \nUse Markdown, Code cells effectively on Jupyter Notebook  \n",
      "metadata": {}
    },
    {
      "id": "8a8b660c-0d00-4119-a130-cdc5a3f69738",
      "cell_type": "markdown",
      "source": "# Author  \n\nFazal Elahi \nThe author is currently studying in university",
      "metadata": {}
    },
    {
      "id": "e402f28c-6824-4419-bebb-9bb46263c16d",
      "cell_type": "code",
      "source": "",
      "metadata": {
        "trusted": true
      },
      "outputs": [],
      "execution_count": null
    }
  ]
}